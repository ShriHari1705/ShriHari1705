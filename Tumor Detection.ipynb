{
 "cells": [
  {
   "cell_type": "code",
   "execution_count": null,
   "id": "c9b7fc89",
   "metadata": {},
   "outputs": [],
   "source": [
    "import numpy as np # linear algebra\n",
    "import pandas as pd # data processing, CSV file I/O (e.g. pd.read_csv)\n",
    "import math\n",
    "import cv2\n",
    "import matplotlib.pyplot as plt\n",
    "import os\n",
    "import seaborn as sns\n",
    "import umap\n",
    "from PIL import Image\n",
    "from scipy import misc\n",
    "from os import listdir\n",
    "from os.path import isfile, join\n",
    "import numpy as np\n",
    "from scipy import misc\n",
    "from random import shuffle\n",
    "from collections import Counter\n",
    "import matplotlib.pyplot as plt\n",
    "from sklearn.decomposition import PCA\n",
    "from sklearn.manifold import TSNE\n",
    "import tensorflow as tf\n",
    "from keras.models import Sequential\n",
    "from keras.layers import Conv2D, MaxPooling2D\n",
    "from keras.layers import Activation, Dropout, Flatten, Dense\n",
    "from keras.utils.np_utils import to_categorical"
   ]
  },
  {
   "cell_type": "code",
   "execution_count": null,
   "id": "48398967",
   "metadata": {},
   "outputs": [],
   "source": [
    "os.listdir('C:/Users/SRIDHARAN/mlintern/input/brain_tumor_dataset')"
   ]
  },
  {
   "cell_type": "code",
   "execution_count": null,
   "id": "55dd75db",
   "metadata": {},
   "outputs": [],
   "source": [
    "im =Image.open('C:/Users/SRIDHARAN/mlintern/input/brain_tumor_dataset/no/1 no.jpeg').resize((128,128))\n",
    "im"
   ]
  },
  {
   "cell_type": "code",
   "execution_count": null,
   "id": "8bb700b9",
   "metadata": {},
   "outputs": [],
   "source": [
    "im =Image.open('C:/Users/SRIDHARAN/mlintern/input/brain_tumor_dataset/yes/Y1.jpg').resize((128,128))\n",
    "im"
   ]
  },
  {
   "cell_type": "code",
   "execution_count": null,
   "id": "8f7414d3",
   "metadata": {},
   "outputs": [],
   "source": [
    "yes=os.listdir('C:/Users/SRIDHARAN/mlintern/input/brain_tumor_dataset/yes')\n",
    "no=os.listdir('C:/Users/SRIDHARAN/mlintern/input/brain_tumor_dataset/no')"
   ]
  },
  {
   "cell_type": "code",
   "execution_count": null,
   "id": "92a4bd71",
   "metadata": {},
   "outputs": [],
   "source": [
    "data=np.concatenate([yes,no])\n",
    "len(data)==len(yes)+len(no)"
   ]
  },
  {
   "cell_type": "code",
   "execution_count": null,
   "id": "3571a07c",
   "metadata": {},
   "outputs": [],
   "source": [
    "target_x=np.full(len(yes),1)\n",
    "target_y=np.full(len(no),0)\n",
    "data_target=np.concatenate([target_x,target_y])\n",
    "len(data_target)==len(target_x)+len(target_y)"
   ]
  },
  {
   "cell_type": "code",
   "execution_count": null,
   "id": "c20c6db5",
   "metadata": {},
   "outputs": [],
   "source": [
    "len(data_target)==len(data)"
   ]
  },
  {
   "cell_type": "code",
   "execution_count": null,
   "id": "24808fb4",
   "metadata": {},
   "outputs": [],
   "source": [
    "data_target"
   ]
  },
  {
   "cell_type": "code",
   "execution_count": null,
   "id": "fbc400fa",
   "metadata": {},
   "outputs": [],
   "source": [
    "data"
   ]
  },
  {
   "cell_type": "code",
   "execution_count": null,
   "id": "27c75d01",
   "metadata": {},
   "outputs": [],
   "source": [
    "yes_values=os.listdir('C:/Users/SRIDHARAN/mlintern/input/brain_tumor_dataset/yes')\n",
    "no_values=os.listdir('C:/Users/SRIDHARAN/mlintern/input/brain_tumor_dataset/no')"
   ]
  },
  {
   "cell_type": "code",
   "execution_count": null,
   "id": "5a0424ae",
   "metadata": {},
   "outputs": [],
   "source": [
    "X_data =[]\n",
    "for file in yes_values:\n",
    "    img = cv2.imread('C:/Users/SRIDHARAN/mlintern/input/brain_tumor_dataset/yes/'+file)\n",
    "    face = cv2.resize( img, (32, 32) )\n",
    "    (b, g, r)=cv2.split(face) \n",
    "    img=cv2.merge([r,g,b])\n",
    "    X_data.append(img)"
   ]
  },
  {
   "cell_type": "code",
   "execution_count": null,
   "id": "dcc11fc7",
   "metadata": {},
   "outputs": [],
   "source": [
    "#X_data =[]\n",
    "for file in no_values:\n",
    "    img = cv2.imread('C:/Users/SRIDHARAN/mlintern/input/brain_tumor_dataset/no/'+file)\n",
    "    face = cv2.resize(img, (32, 32) )\n",
    "    (b, g, r)=cv2.split(face) \n",
    "    img=cv2.merge([r,g,b])\n",
    "    X_data.append(img)"
   ]
  },
  {
   "cell_type": "code",
   "execution_count": null,
   "id": "f786a1bd",
   "metadata": {},
   "outputs": [],
   "source": [
    "len(X_data)==len(data)==len(data_target)"
   ]
  },
  {
   "cell_type": "code",
   "execution_count": null,
   "id": "f51d2c25",
   "metadata": {},
   "outputs": [],
   "source": [
    "X = np.squeeze(X_data)"
   ]
  },
  {
   "cell_type": "code",
   "execution_count": null,
   "id": "cee90ef3",
   "metadata": {},
   "outputs": [],
   "source": [
    "X.shape"
   ]
  },
  {
   "cell_type": "code",
   "execution_count": null,
   "id": "5869981b",
   "metadata": {},
   "outputs": [],
   "source": [
    "X = X.astype('float32')\n",
    "X /= 255"
   ]
  },
  {
   "cell_type": "code",
   "execution_count": null,
   "id": "33fce90f",
   "metadata": {},
   "outputs": [],
   "source": [
    "data_target"
   ]
  },
  {
   "cell_type": "code",
   "execution_count": null,
   "id": "cfe33b56",
   "metadata": {},
   "outputs": [],
   "source": [
    "(x_train, y_train), (x_test, y_test) = (X[:190],data_target[:190]) , (X[190:] , data_target[190:])\n",
    "(x_valid , y_valid) = (x_test[:63], y_test[:63])\n",
    "#(x_test, y_test) = (x_test[63:], y_test[63:])"
   ]
  },
  {
   "cell_type": "code",
   "execution_count": null,
   "id": "4214a829",
   "metadata": {},
   "outputs": [],
   "source": [
    "model = tf.keras.Sequential()\n",
    "\n",
    "model.add(tf.keras.layers.Conv2D(filters=16,kernel_size=9, padding='same', activation='relu', input_shape=(32,32,3))) \n",
    "model.add(tf.keras.layers.MaxPooling2D(pool_size=2))\n",
    "model.add(tf.keras.layers.Dropout(0.45))\n",
    "\n",
    "model.add(tf.keras.layers.Conv2D(filters=16,kernel_size=9,padding='same', activation='relu'))\n",
    "model.add(tf.keras.layers.MaxPooling2D(pool_size=2))\n",
    "model.add(tf.keras.layers.Dropout(0.25))\n",
    "\n",
    "model.add(tf.keras.layers.Conv2D(filters=36, kernel_size=9, padding='same', activation='relu'))\n",
    "model.add(tf.keras.layers.MaxPooling2D(pool_size=2))\n",
    "model.add(tf.keras.layers.Dropout(0.25))\n",
    "\n",
    "model.add(tf.keras.layers.Flatten())\n",
    "\n",
    "model.add(tf.keras.layers.Dense(512, activation='relu'))\n",
    "model.add(tf.keras.layers.Dropout(0.15))\n",
    "\n",
    "\n",
    "model.add(tf.keras.layers.Dense(1, activation='sigmoid'))\n",
    "\n",
    "model.summary()"
   ]
  },
  {
   "cell_type": "code",
   "execution_count": null,
   "id": "b306ad81",
   "metadata": {},
   "outputs": [],
   "source": [
    "model.compile(loss='binary_crossentropy',\n",
    "             optimizer=tf.keras.optimizers.Adam(),\n",
    "             metrics=['acc'])"
   ]
  },
  {
   "cell_type": "code",
   "execution_count": 34,
   "id": "96ff48ee",
   "metadata": {},
   "outputs": [
    {
     "name": "stdout",
     "output_type": "stream",
     "text": [
      "Epoch 1/100\n",
      "2/2 [==============================] - 2s 933ms/step - loss: 0.0079 - acc: 1.0000 - val_loss: 3.3573 - val_acc: 0.6825\n",
      "Epoch 2/100\n",
      "2/2 [==============================] - 1s 405ms/step - loss: 8.0241e-04 - acc: 1.0000 - val_loss: 3.3349 - val_acc: 0.6825\n",
      "Epoch 3/100\n",
      "2/2 [==============================] - 1s 551ms/step - loss: 6.9736e-04 - acc: 1.0000 - val_loss: 3.3192 - val_acc: 0.6667\n",
      "Epoch 4/100\n",
      "2/2 [==============================] - 1s 414ms/step - loss: 6.7372e-04 - acc: 1.0000 - val_loss: 3.3118 - val_acc: 0.6667\n",
      "Epoch 5/100\n",
      "2/2 [==============================] - 1s 519ms/step - loss: 0.0066 - acc: 1.0000 - val_loss: 3.3533 - val_acc: 0.6667\n",
      "Epoch 6/100\n",
      "2/2 [==============================] - 1s 385ms/step - loss: 0.0066 - acc: 0.9947 - val_loss: 3.3281 - val_acc: 0.6667\n",
      "Epoch 7/100\n",
      "2/2 [==============================] - 1s 469ms/step - loss: 0.0023 - acc: 1.0000 - val_loss: 3.3899 - val_acc: 0.6667\n",
      "Epoch 8/100\n",
      "2/2 [==============================] - 1s 537ms/step - loss: 0.0158 - acc: 0.9895 - val_loss: 3.4613 - val_acc: 0.6667\n",
      "Epoch 9/100\n",
      "2/2 [==============================] - 1s 658ms/step - loss: 0.0011 - acc: 1.0000 - val_loss: 3.5853 - val_acc: 0.6667\n",
      "Epoch 10/100\n",
      "2/2 [==============================] - 1s 510ms/step - loss: 0.0012 - acc: 1.0000 - val_loss: 3.6421 - val_acc: 0.6825\n",
      "Epoch 11/100\n",
      "2/2 [==============================] - 1s 501ms/step - loss: 0.0036 - acc: 1.0000 - val_loss: 3.5814 - val_acc: 0.6984\n",
      "Epoch 12/100\n",
      "2/2 [==============================] - 1s 580ms/step - loss: 0.0026 - acc: 1.0000 - val_loss: 3.4761 - val_acc: 0.7143\n",
      "Epoch 13/100\n",
      "2/2 [==============================] - 1s 483ms/step - loss: 0.0127 - acc: 0.9947 - val_loss: 3.6166 - val_acc: 0.7143\n",
      "Epoch 14/100\n",
      "2/2 [==============================] - 1s 400ms/step - loss: 0.0019 - acc: 1.0000 - val_loss: 4.0679 - val_acc: 0.6349\n",
      "Epoch 15/100\n",
      "2/2 [==============================] - 1s 393ms/step - loss: 0.0080 - acc: 0.9947 - val_loss: 4.2031 - val_acc: 0.6190\n",
      "Epoch 16/100\n",
      "2/2 [==============================] - 1s 551ms/step - loss: 0.0496 - acc: 0.9789 - val_loss: 3.2657 - val_acc: 0.7143\n",
      "Epoch 17/100\n",
      "2/2 [==============================] - 1s 462ms/step - loss: 0.0020 - acc: 1.0000 - val_loss: 2.6165 - val_acc: 0.7302\n",
      "Epoch 18/100\n",
      "2/2 [==============================] - 1s 578ms/step - loss: 0.0141 - acc: 0.9947 - val_loss: 2.5201 - val_acc: 0.7460\n",
      "Epoch 19/100\n",
      "2/2 [==============================] - 1s 636ms/step - loss: 0.0233 - acc: 0.9842 - val_loss: 3.0288 - val_acc: 0.7143\n",
      "Epoch 20/100\n",
      "2/2 [==============================] - 1s 490ms/step - loss: 4.4679e-04 - acc: 1.0000 - val_loss: 3.6791 - val_acc: 0.6508\n",
      "Epoch 21/100\n",
      "2/2 [==============================] - 1s 603ms/step - loss: 0.0022 - acc: 1.0000 - val_loss: 4.2652 - val_acc: 0.6032\n",
      "Epoch 22/100\n",
      "2/2 [==============================] - 1s 481ms/step - loss: 0.0531 - acc: 0.9789 - val_loss: 3.2936 - val_acc: 0.6825\n",
      "Epoch 23/100\n",
      "2/2 [==============================] - 1s 621ms/step - loss: 0.0142 - acc: 0.9947 - val_loss: 2.2731 - val_acc: 0.7460\n",
      "Epoch 24/100\n",
      "2/2 [==============================] - 2s 737ms/step - loss: 0.0612 - acc: 0.9947 - val_loss: 2.0336 - val_acc: 0.7460\n",
      "Epoch 25/100\n",
      "2/2 [==============================] - 1s 408ms/step - loss: 0.0844 - acc: 0.9632 - val_loss: 3.0783 - val_acc: 0.6508\n",
      "Epoch 26/100\n",
      "2/2 [==============================] - 1s 585ms/step - loss: 0.0227 - acc: 0.9842 - val_loss: 3.6692 - val_acc: 0.5873\n",
      "Epoch 27/100\n",
      "2/2 [==============================] - 1s 469ms/step - loss: 0.0093 - acc: 1.0000 - val_loss: 3.3358 - val_acc: 0.6508\n",
      "Epoch 28/100\n",
      "2/2 [==============================] - 1s 418ms/step - loss: 0.0120 - acc: 0.9947 - val_loss: 2.9467 - val_acc: 0.6825\n",
      "Epoch 29/100\n",
      "2/2 [==============================] - 1s 457ms/step - loss: 0.0059 - acc: 1.0000 - val_loss: 2.6773 - val_acc: 0.7143\n",
      "Epoch 30/100\n",
      "2/2 [==============================] - 1s 546ms/step - loss: 0.0163 - acc: 0.9947 - val_loss: 2.6902 - val_acc: 0.7143\n",
      "Epoch 31/100\n",
      "2/2 [==============================] - 1s 485ms/step - loss: 0.0181 - acc: 0.9947 - val_loss: 2.8116 - val_acc: 0.7143\n",
      "Epoch 32/100\n",
      "2/2 [==============================] - 1s 500ms/step - loss: 0.0341 - acc: 0.9842 - val_loss: 2.9375 - val_acc: 0.6984\n",
      "Epoch 33/100\n",
      "2/2 [==============================] - 1s 398ms/step - loss: 0.0054 - acc: 1.0000 - val_loss: 3.0692 - val_acc: 0.6984\n",
      "Epoch 34/100\n",
      "2/2 [==============================] - 1s 407ms/step - loss: 0.0370 - acc: 0.9842 - val_loss: 3.0361 - val_acc: 0.6825\n",
      "Epoch 35/100\n",
      "2/2 [==============================] - 1s 490ms/step - loss: 0.0267 - acc: 0.9895 - val_loss: 2.9344 - val_acc: 0.6667\n",
      "Epoch 36/100\n",
      "2/2 [==============================] - 1s 655ms/step - loss: 0.0178 - acc: 0.9895 - val_loss: 2.6974 - val_acc: 0.6825\n",
      "Epoch 37/100\n",
      "2/2 [==============================] - 1s 666ms/step - loss: 0.0200 - acc: 0.9947 - val_loss: 2.4504 - val_acc: 0.7302\n",
      "Epoch 38/100\n",
      "2/2 [==============================] - 1s 385ms/step - loss: 0.0224 - acc: 0.9947 - val_loss: 2.2353 - val_acc: 0.7143\n",
      "Epoch 39/100\n",
      "2/2 [==============================] - 1s 382ms/step - loss: 0.0198 - acc: 0.9947 - val_loss: 2.3209 - val_acc: 0.7143\n",
      "Epoch 40/100\n",
      "2/2 [==============================] - 1s 585ms/step - loss: 0.0085 - acc: 1.0000 - val_loss: 2.4024 - val_acc: 0.6667\n",
      "Epoch 41/100\n",
      "2/2 [==============================] - 1s 385ms/step - loss: 0.0128 - acc: 1.0000 - val_loss: 2.3124 - val_acc: 0.7302\n",
      "Epoch 42/100\n",
      "2/2 [==============================] - 1s 532ms/step - loss: 0.0123 - acc: 1.0000 - val_loss: 2.1511 - val_acc: 0.7302\n",
      "Epoch 43/100\n",
      "2/2 [==============================] - 1s 407ms/step - loss: 0.0276 - acc: 0.9789 - val_loss: 2.1951 - val_acc: 0.7302\n",
      "Epoch 44/100\n",
      "2/2 [==============================] - 1s 469ms/step - loss: 0.0069 - acc: 1.0000 - val_loss: 2.3534 - val_acc: 0.7302\n",
      "Epoch 45/100\n",
      "2/2 [==============================] - 1s 416ms/step - loss: 0.0035 - acc: 1.0000 - val_loss: 2.5141 - val_acc: 0.7302\n",
      "Epoch 46/100\n",
      "2/2 [==============================] - 1s 373ms/step - loss: 0.0036 - acc: 1.0000 - val_loss: 2.6386 - val_acc: 0.7143\n",
      "Epoch 47/100\n",
      "2/2 [==============================] - 1s 605ms/step - loss: 0.0039 - acc: 1.0000 - val_loss: 2.6927 - val_acc: 0.7143\n",
      "Epoch 48/100\n",
      "2/2 [==============================] - 1s 398ms/step - loss: 0.0037 - acc: 1.0000 - val_loss: 2.7204 - val_acc: 0.7143\n",
      "Epoch 49/100\n",
      "2/2 [==============================] - 1s 461ms/step - loss: 0.0091 - acc: 0.9947 - val_loss: 2.6169 - val_acc: 0.7143\n",
      "Epoch 50/100\n",
      "2/2 [==============================] - 1s 528ms/step - loss: 0.0250 - acc: 0.9895 - val_loss: 2.4341 - val_acc: 0.7460\n",
      "Epoch 51/100\n",
      "2/2 [==============================] - 1s 324ms/step - loss: 0.0027 - acc: 1.0000 - val_loss: 2.2635 - val_acc: 0.7460\n",
      "Epoch 52/100\n",
      "2/2 [==============================] - 1s 370ms/step - loss: 0.0376 - acc: 0.9789 - val_loss: 2.8359 - val_acc: 0.6984\n",
      "Epoch 53/100\n",
      "2/2 [==============================] - 1s 347ms/step - loss: 0.0357 - acc: 0.9947 - val_loss: 3.1631 - val_acc: 0.6667\n",
      "Epoch 54/100\n",
      "2/2 [==============================] - 1s 696ms/step - loss: 0.0051 - acc: 1.0000 - val_loss: 2.9936 - val_acc: 0.6825\n",
      "Epoch 55/100\n",
      "2/2 [==============================] - 1s 378ms/step - loss: 0.0047 - acc: 1.0000 - val_loss: 2.8088 - val_acc: 0.6825\n",
      "Epoch 56/100\n",
      "2/2 [==============================] - 1s 409ms/step - loss: 0.0111 - acc: 0.9947 - val_loss: 2.5666 - val_acc: 0.7302\n",
      "Epoch 57/100\n",
      "2/2 [==============================] - 1s 613ms/step - loss: 0.0081 - acc: 1.0000 - val_loss: 2.5551 - val_acc: 0.7302\n",
      "Epoch 58/100\n",
      "2/2 [==============================] - 1s 447ms/step - loss: 0.0035 - acc: 1.0000 - val_loss: 2.7606 - val_acc: 0.7143\n",
      "Epoch 59/100\n",
      "2/2 [==============================] - 1s 618ms/step - loss: 0.0089 - acc: 1.0000 - val_loss: 3.0206 - val_acc: 0.7143\n",
      "Epoch 60/100\n",
      "2/2 [==============================] - 2s 808ms/step - loss: 0.0042 - acc: 1.0000 - val_loss: 3.2387 - val_acc: 0.6984\n",
      "Epoch 61/100\n",
      "2/2 [==============================] - 2s 906ms/step - loss: 0.0028 - acc: 1.0000 - val_loss: 3.2666 - val_acc: 0.6825\n",
      "Epoch 62/100\n",
      "2/2 [==============================] - 1s 680ms/step - loss: 0.0100 - acc: 0.9947 - val_loss: 3.0225 - val_acc: 0.6825\n",
      "Epoch 63/100\n"
     ]
    },
    {
     "name": "stdout",
     "output_type": "stream",
     "text": [
      "2/2 [==============================] - 1s 684ms/step - loss: 0.0077 - acc: 0.9947 - val_loss: 2.6845 - val_acc: 0.6984\n",
      "Epoch 64/100\n",
      "2/2 [==============================] - 2s 782ms/step - loss: 0.0015 - acc: 1.0000 - val_loss: 2.3542 - val_acc: 0.7460\n",
      "Epoch 65/100\n",
      "2/2 [==============================] - 1s 669ms/step - loss: 0.0026 - acc: 1.0000 - val_loss: 2.1252 - val_acc: 0.7460\n",
      "Epoch 66/100\n",
      "2/2 [==============================] - 1s 345ms/step - loss: 0.0075 - acc: 0.9947 - val_loss: 2.1670 - val_acc: 0.7460\n",
      "Epoch 67/100\n",
      "2/2 [==============================] - 1s 418ms/step - loss: 0.0171 - acc: 0.9947 - val_loss: 2.3695 - val_acc: 0.7302\n",
      "Epoch 68/100\n",
      "2/2 [==============================] - 1s 344ms/step - loss: 0.0034 - acc: 1.0000 - val_loss: 2.6366 - val_acc: 0.6984\n",
      "Epoch 69/100\n",
      "2/2 [==============================] - 1s 361ms/step - loss: 0.0015 - acc: 1.0000 - val_loss: 2.9434 - val_acc: 0.6667\n",
      "Epoch 70/100\n",
      "2/2 [==============================] - 1s 520ms/step - loss: 0.0029 - acc: 1.0000 - val_loss: 3.1710 - val_acc: 0.6508\n",
      "Epoch 71/100\n",
      "2/2 [==============================] - 1s 373ms/step - loss: 0.0017 - acc: 1.0000 - val_loss: 3.3010 - val_acc: 0.6349\n",
      "Epoch 72/100\n",
      "2/2 [==============================] - 1s 473ms/step - loss: 0.0039 - acc: 1.0000 - val_loss: 3.3323 - val_acc: 0.6349\n",
      "Epoch 73/100\n",
      "2/2 [==============================] - 1s 370ms/step - loss: 0.0064 - acc: 1.0000 - val_loss: 3.1092 - val_acc: 0.6667\n",
      "Epoch 74/100\n",
      "2/2 [==============================] - 1s 528ms/step - loss: 0.0015 - acc: 1.0000 - val_loss: 2.8279 - val_acc: 0.6984\n",
      "Epoch 75/100\n",
      "2/2 [==============================] - 1s 380ms/step - loss: 0.0020 - acc: 1.0000 - val_loss: 2.6769 - val_acc: 0.7302\n",
      "Epoch 76/100\n",
      "2/2 [==============================] - 1s 386ms/step - loss: 0.0015 - acc: 1.0000 - val_loss: 2.5741 - val_acc: 0.7302\n",
      "Epoch 77/100\n",
      "2/2 [==============================] - 1s 347ms/step - loss: 0.0045 - acc: 1.0000 - val_loss: 2.6361 - val_acc: 0.7302\n",
      "Epoch 78/100\n",
      "2/2 [==============================] - 1s 491ms/step - loss: 0.0041 - acc: 1.0000 - val_loss: 2.8158 - val_acc: 0.7302\n",
      "Epoch 79/100\n",
      "2/2 [==============================] - 1s 474ms/step - loss: 0.0027 - acc: 1.0000 - val_loss: 3.1004 - val_acc: 0.6825\n",
      "Epoch 80/100\n",
      "2/2 [==============================] - 1s 436ms/step - loss: 5.3230e-04 - acc: 1.0000 - val_loss: 3.3580 - val_acc: 0.6825\n",
      "Epoch 81/100\n",
      "2/2 [==============================] - 1s 508ms/step - loss: 3.3197e-04 - acc: 1.0000 - val_loss: 3.5742 - val_acc: 0.6825\n",
      "Epoch 82/100\n",
      "2/2 [==============================] - 2s 996ms/step - loss: 8.3074e-04 - acc: 1.0000 - val_loss: 3.7293 - val_acc: 0.6667\n",
      "Epoch 83/100\n",
      "2/2 [==============================] - 3s 1s/step - loss: 4.8300e-04 - acc: 1.0000 - val_loss: 3.8299 - val_acc: 0.6667\n",
      "Epoch 84/100\n",
      "2/2 [==============================] - 2s 696ms/step - loss: 0.0036 - acc: 1.0000 - val_loss: 3.8369 - val_acc: 0.6667\n",
      "Epoch 85/100\n",
      "2/2 [==============================] - 2s 718ms/step - loss: 7.1393e-04 - acc: 1.0000 - val_loss: 3.8283 - val_acc: 0.6667\n",
      "Epoch 86/100\n",
      "2/2 [==============================] - 2s 830ms/step - loss: 5.0317e-04 - acc: 1.0000 - val_loss: 3.8126 - val_acc: 0.6667\n",
      "Epoch 87/100\n",
      "2/2 [==============================] - 1s 622ms/step - loss: 3.3784e-04 - acc: 1.0000 - val_loss: 3.7979 - val_acc: 0.6667\n",
      "Epoch 88/100\n",
      "2/2 [==============================] - 2s 700ms/step - loss: 2.7194e-04 - acc: 1.0000 - val_loss: 3.7855 - val_acc: 0.6825\n",
      "Epoch 89/100\n",
      "2/2 [==============================] - 1s 640ms/step - loss: 0.0011 - acc: 1.0000 - val_loss: 3.7413 - val_acc: 0.6825\n",
      "Epoch 90/100\n",
      "2/2 [==============================] - 2s 874ms/step - loss: 3.8286e-04 - acc: 1.0000 - val_loss: 3.6788 - val_acc: 0.6825\n",
      "Epoch 91/100\n",
      "2/2 [==============================] - 1s 833ms/step - loss: 0.0015 - acc: 1.0000 - val_loss: 3.5979 - val_acc: 0.6984\n",
      "Epoch 92/100\n",
      "2/2 [==============================] - 1s 549ms/step - loss: 2.1848e-04 - acc: 1.0000 - val_loss: 3.5270 - val_acc: 0.6984\n",
      "Epoch 93/100\n",
      "2/2 [==============================] - 1s 396ms/step - loss: 0.0017 - acc: 1.0000 - val_loss: 3.5211 - val_acc: 0.6984\n",
      "Epoch 94/100\n",
      "2/2 [==============================] - 1s 649ms/step - loss: 0.0012 - acc: 1.0000 - val_loss: 3.5472 - val_acc: 0.6984\n",
      "Epoch 95/100\n",
      "2/2 [==============================] - 1s 520ms/step - loss: 2.8879e-04 - acc: 1.0000 - val_loss: 3.5713 - val_acc: 0.6984\n",
      "Epoch 96/100\n",
      "2/2 [==============================] - 1s 541ms/step - loss: 9.2311e-04 - acc: 1.0000 - val_loss: 3.6199 - val_acc: 0.6984\n",
      "Epoch 97/100\n",
      "2/2 [==============================] - 1s 513ms/step - loss: 6.3407e-04 - acc: 1.0000 - val_loss: 3.6845 - val_acc: 0.6825\n",
      "Epoch 98/100\n",
      "2/2 [==============================] - 1s 437ms/step - loss: 0.0037 - acc: 1.0000 - val_loss: 3.7703 - val_acc: 0.6825\n",
      "Epoch 99/100\n",
      "2/2 [==============================] - 1s 357ms/step - loss: 0.0023 - acc: 1.0000 - val_loss: 3.7386 - val_acc: 0.6825\n",
      "Epoch 100/100\n",
      "2/2 [==============================] - 1s 515ms/step - loss: 8.8421e-04 - acc: 1.0000 - val_loss: 3.7372 - val_acc: 0.6825\n"
     ]
    },
    {
     "data": {
      "text/plain": [
       "<keras.callbacks.History at 0x21f00461690>"
      ]
     },
     "execution_count": 34,
     "metadata": {},
     "output_type": "execute_result"
    }
   ],
   "source": [
    "model.fit(x_train,\n",
    "         y_train,\n",
    "         batch_size=128,\n",
    "         epochs=100,\n",
    "         validation_data=(x_valid, y_valid),)"
   ]
  },
  {
   "cell_type": "code",
   "execution_count": 35,
   "id": "5ef0b11f",
   "metadata": {},
   "outputs": [
    {
     "name": "stdout",
     "output_type": "stream",
     "text": [
      "\n",
      " Test accuracy: 0.682539701461792\n"
     ]
    }
   ],
   "source": [
    "score = model.evaluate(x_test, y_test, verbose=0)\n",
    "print('\\n', 'Test accuracy:', score[1])"
   ]
  },
  {
   "cell_type": "code",
   "execution_count": null,
   "id": "3567db11",
   "metadata": {},
   "outputs": [],
   "source": [
    "labels =[\"Yes\",  # index 0\n",
    "        \"No\",      # index 1\n",
    "        ]"
   ]
  },
  {
   "cell_type": "markdown",
   "id": "c8ab6a11",
   "metadata": {},
   "source": [
    "# Sample Prediction"
   ]
  },
  {
   "cell_type": "code",
   "execution_count": 36,
   "id": "443cb59c",
   "metadata": {},
   "outputs": [
    {
     "name": "stdout",
     "output_type": "stream",
     "text": [
      "2/2 [==============================] - 0s 23ms/step\n"
     ]
    },
    {
     "data": {
      "image/png": "[encoded data removed]",
      "text/plain": [
       "<Figure size 2000x800 with 15 Axes>"
      ]
     },
     "metadata": {},
     "output_type": "display_data"
    }
   ],
   "source": [
    "y_hat = model.predict(x_test)\n",
    "figure = plt.figure(figsize=(20, 8))\n",
    "for i, index in enumerate(np.random.choice(x_test.shape[0], size=15, replace=False)):\n",
    "    ax = figure.add_subplot(3, 5, i + 1, xticks=[], yticks=[])\n",
    "    ax.imshow(np.squeeze(x_test[index]))\n",
    "    predict_index = np.argmax(y_hat[index])\n",
    "    true_index = np.argmax(y_test[index])\n",
    "    ax.set_title(\"{} ({})\".format(labels[predict_index], \n",
    "                                  labels[true_index]),\n",
    "                                  color=(\"green\" if predict_index == true_index else \"red\"))\n",
    "plt.show()"
   ]
  },
  {
   "cell_type": "code",
   "execution_count": null,
   "id": "14e4ff76",
   "metadata": {},
   "outputs": [],
   "source": [
    "from flask import Flask, render_template, request\n",
    "from werkzeug.utils import secure_filename\n",
    "import tensorflow as tf\n",
    "import numpy as np\n",
    "from PIL import Image\n",
    "\n",
    "app = Flask(_name_)\n",
    "\n",
    "# Load your trained model\n",
    "model = tf.keras.models.load_model('C:/Users/SRIDHARAN/mlintern')\n",
    "\n",
    "@app.route('/')\n",
    "def upload_file():\n",
    "   return render_template('upload.html')\n",
    "\n",
    "@app.route('/uploader', methods = ['GET', 'POST'])\n",
    "def upload_image_file():\n",
    "   if request.method == 'POST':\n",
    "      img = Image.open(request.files['file'].stream).convert(\"RGB\")\n",
    "      img = img.resize((64,64)) # use the same size as you used during model training\n",
    "      img_array = np.array(img) / 255.0 # model expects input in range 0 - 1\n",
    "      img_array = np.expand_dims(img_array, axis=0) # expand dims to match the input size of model\n",
    "      prediction = model.predict(img_array) # get prediction\n",
    "      tumor_present = np.argmax(prediction) == 1 # assuming tumor class is 1\n",
    "\n",
    "      return 'Tumor detected!' if tumor_present else 'No tumor detected.'\n",
    "\t\t\n",
    "if _name_ == '_main_':\n",
    "   app.run(debug=True)"
   ]
  }
 ],
 "metadata": {
  "kernelspec": {
   "display_name": "Python 3 (ipykernel)",
   "language": "python",
   "name": "python3"
  },
  "language_info": {
   "codemirror_mode": {
    "name": "ipython",
    "version": 3
   },
   "file_extension": ".py",
   "mimetype": "text/x-python",
   "name": "python",
   "nbconvert_exporter": "python",
   "pygments_lexer": "ipython3",
   "version": "3.10.9"
  }
 },
 "nbformat": 4,
 "nbformat_minor": 5
}
